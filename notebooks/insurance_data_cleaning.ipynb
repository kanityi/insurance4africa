# insurance_data_cleaning.ipynb

{
 "cells": [
  {
   "cell_type": "markdown",
   "metadata": {},
   "source": [
    "# Insurance Data Cleaning\n",
    "\n",
    "This notebook performs data cleaning on an insurance dataset. We will follow these steps:\n",
    "1. Remove rows with high missing data.\n",
    "2. Calculate the five-number summary.\n",
    "3. Impute missing values.\n",
    "4. Correct or remove outliers."
   ]
  },
  {
   "cell_type": "code",
   "execution_count": 1,
   "metadata": {},
   "outputs": [],
   "source": [
    "# Import necessary libraries\n",
    "import pandas as pd\n",
    "import numpy as np"
   ]
  },
  {
   "cell_type": "markdown",
   "metadata": {},
   "source": [
    "## Load Data\n",
    "Load the insurance dataset from a CSV file."
   ]
  },
  {
   "cell_type": "code",
   "execution_count": 2,
   "metadata": {},
   "outputs": [],
   "source": [
    "# Load the dataset\n",
    "file_path = 'path_to_your_file.csv'  # Replace with your file path\n",
    "df = pd.read_csv(file_path)\n",
    "\n",
    "# Display the first few rows of the dataframe\n",
    "df.head()"
   ]
  },
  {
   "cell_type": "markdown",
   "metadata": {},
   "source": [
    "## 1. Remove Rows with High Missing Data\n",
    "Remove rows that have more than 30% missing values."
   ]
  },
  {
   "cell_type": "code",
   "execution_count": 3,
   "metadata": {},
   "outputs": [],
   "source": [
    "# Define threshold for dropping rows\n",
    "threshold = len(df.columns) * 0.3\n",
    "\n",
    "# Drop rows with missing values exceeding the threshold\n",
    "df_cleaned = df.dropna(thresh=threshold)\n",
    "\n",
    "# Check the shape of the dataframe after dropping\n",
    "df_cleaned.shape"
   ]
  },
  {
   "cell_type": "markdown",
   "metadata": {},
   "source": [
    "## 2. Calculate Five-Number Summary\n",
    "Generate descriptive statistics for the dataset."
   ]
  },
  {
   "cell_type": "code",
   "execution_count": 4,
   "metadata": {},
   "outputs": [],
   "source": [
    "# Calculate five-number summary\n",
    "five_num_summary = df_cleaned.describe(include='all')\n",
    "\n",
    "# Display five-number summary\n",
    "five_num_summary"
   ]
  },
  {
   "cell_type": "markdown",
   "metadata": {},
   "source": [
    "## 3. Impute Missing Values\n",
    "Impute missing values with the median for numerical columns and the mode for categorical columns."
   ]
  },
  {
   "cell_type": "code",
   "execution_count": 5,
   "metadata": {},
   "outputs": [],
   "source": [
    "# Impute missing values\n",
    "for column in df_cleaned.columns:\n",
    "    if df_cleaned[column].dtype == 'object':\n",
    "        # Impute categorical columns with mode\n",
    "        mode_value = df_cleaned[column].mode()[0]\n",
    "        df_cleaned[column].fillna(mode_value, inplace=True)\n",
    "    else:\n",
    "        # Impute numerical columns with median\n",
    "        median_value = df_cleaned[column].median()\n",
    "        df_cleaned[column].fillna(median_value, inplace=True)\n",
    "\n",
    "# Check for remaining missing values\n",
    "df_cleaned.isna().sum()"
   ]
  },
  {
   "cell_type": "markdown",
   "metadata": {},
   "source": [
    "## 4. Correct or Remove Outliers\n",
    "Handle outliers in the numerical columns using the IQR method."
   ]
  },
  {
   "cell_type": "code",
   "execution_count": 6,
   "metadata": {},
   "outputs": [],
   "source": [
    "# Function to handle outliers\n",
    "def handle_outliers(column):\n",
    "    if df_cleaned[column].dtype != 'object':\n",
    "        Q1 = df_cleaned[column].quantile(0.25)\n",
    "        Q3 = df_cleaned[column].quantile(0.75)\n",
    "        IQR = Q3 - Q1\n",
    "        lower_bound = Q1 - 1.5 * IQR\n",
    "        upper_bound = Q3 + 1.5 * IQR\n",
    "        # Capping the outliers\n",
    "        df_cleaned[column] = df_cleaned[column].clip(lower_bound, upper_bound)\n",
    "\n",
    "# Apply outlier handling\n",
    "numeric_columns = df_cleaned.select_dtypes(include=['float64', 'int64']).columns\n",
    "for column in numeric_columns:\n",
    "    handle_outliers(column)\n",
    "\n",
    "# Display data after outlier handling\n",
    "df_cleaned.describe()"
   ]
  },
  {
   "cell_type": "markdown",
   "metadata": {},
   "source": [
    "## Save Cleaned Data\n",
    "Save the cleaned dataset to a new CSV file."
   ]
  },
  {
   "cell_type": "code",
   "execution_count": 7,
   "metadata": {},
   "outputs": [],
   "source": [
    "# Save cleaned data to a new CSV file\n",
    "output_file_path = 'path_to_your_cleaned_file.csv'  # Replace with desired output path\n",
    "df_cleaned.to_csv(output_file_path, index=False)\n",
    "\n",
    "print(\"Data cleaning complete. Cleaned data saved to:\", output_file_path)"
   ]
  }
 ],
 "metadata": {
  "kernelspec": {
   "display_name": "Python 3",
   "language": "python",
   "name": "python3"
  },
  "language_info": {
   "codemirror_mode": {
    "name": "ipython",
    "version": 3
   },
   "file_extension": ".py",
   "mimetype": "text/x-python",
   "name": "python",
   "nbconvert_exporter": "python",
   "pygments_lexer": "ipython3",
   "version": "3.8.8"
  }
 },
 "nbformat": 4,
 "nbformat_minor": 5
}
