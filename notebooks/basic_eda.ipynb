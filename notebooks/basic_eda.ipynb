{
 "cells": [
  {
   "cell_type": "markdown",
   "metadata": {},
   "source": "# Exploratory Data Analysis (EDA)\n\nWelcome to the EDA notebook for the Insurance4Africa project. This notebook will guide us through understanding our cleaned data, focusing on customer demographics, policy attributes, and fraud detection."
  },
  {
   "cell_type": "markdown",
   "metadata": {},
   "source": "## 1. Setup and Data Loading\n\nFirst, we import necessary libraries and load the cleaned data into a DataFrame."
  },
  {
   "cell_type": "code",
   "execution_count": 1,
   "metadata": {},
   "outputs": [],
   "source": "import pandas as pd\nimport numpy as np\nimport matplotlib.pyplot as plt\nimport seaborn as sns\n\n# Load the cleaned data\nfile_path = 'path_to_your_cleaned_data.csv'\ndf = pd.read_csv(file_path)\n\n# Display the first few rows of the dataframe\ndf.head()"
  },
  {
   "cell_type": "markdown",
   "metadata": {},
   "source": "## 2. Data Overview\n\nUnderstand the structure of the data by looking at its shape, columns, and basic statistics."
  },
  {
   "cell_type": "code",
   "execution_count": 2,
   "metadata": {},
   "outputs": [],
   "source": "# Data structure overview\nprint(f'Data Shape: {df.shape}')\nprint('\\nColumns:', df.columns)\n\n# Basic statistics\ndf.describe(include='all').T"
  },
  {
   "cell_type": "markdown",
   "metadata": {},
   "source": "## 3. Customer Demographics\n\nAnalyze demographic information such as age, sex, and education level of the insured."
  },
  {
   "cell_type": "code",
   "execution_count": 3,
   "metadata": {},
   "outputs": [],
   "source": "# Age distribution\nplt.figure(figsize=(10, 6))\nsns.histplot(df['age'], bins=30, kde=True, color='skyblue')\nplt.title('Age Distribution of Customers')\nplt.xlabel('Age')\nplt.ylabel('Frequency')\nplt.show()\n\n# Gender distribution\nplt.figure(figsize=(10, 6))\nsns.countplot(data=df, x='insured_sex', palette='viridis')\nplt.title('Gender Distribution of Customers')\nplt.xlabel('Gender')\nplt.ylabel('Count')\nplt.show()\n\n# Education level distribution\nplt.figure(figsize=(10, 6))\nsns.countplot(data=df, x='insured_education_level', palette='coolwarm')\nplt.title('Education Level of Customers')\nplt.xlabel('Education Level')\nplt.ylabel('Count')\nplt.xticks(rotation=45)\nplt.show()"
  },
  {
   "cell_type": "markdown",
   "metadata": {},
   "source": "## 4. Policy Attributes\n\nExamine key policy attributes like annual premium, deductibles, and umbrella limits."
  },
  {
   "cell_type": "code",
   "execution_count": 4,
   "metadata": {},
   "outputs": [],
   "source": "# Annual premium distribution\nplt.figure(figsize=(10, 6))\nsns.histplot(df['policy_annual_premium'], bins=30, kde=True, color='coral')\nplt.title('Annual Premium Distribution')\nplt.xlabel('Annual Premium')\nplt.ylabel('Frequency')\nplt.show()\n\n# Deductible distribution\nplt.figure(figsize=(10, 6))\nsns.histplot(df['policy_deductable'], bins=30, kde=True, color='lightgreen')\nplt.title('Policy Deductible Distribution')\nplt.xlabel('Policy Deductible')\nplt.ylabel('Frequency')\nplt.show()\n\n# Umbrella limit distribution\nplt.figure(figsize=(10, 6))\nsns.histplot(df['umbrella_limit'], bins=30, kde=True, color='lightskyblue')\nplt.title('Umbrella Limit Distribution')\nplt.xlabel('Umbrella Limit')\nplt.ylabel('Frequency')\nplt.show()"
  },
  {
   "cell_type": "markdown",
   "metadata": {},
   "source": "## 5. Fraud Detection Patterns\n\nInvestigate patterns and trends related to reported fraud cases."
  },
  {
   "cell_type": "code",
   "execution_count": 5,
   "metadata": {},
   "outputs": [],
   "source": "# Fraud reported by gender\nplt.figure(figsize=(10, 6))\nsns.countplot(data=df, x='insured_sex', hue='fraud_reported', palette='viridis')\nplt.title('Fraud Reported by Gender')\nplt.xlabel('Gender')\nplt.ylabel('Count')\nplt.legend(title='Fraud Reported')\nplt.show()\n\n# Fraud reported by education level\nplt.figure(figsize=(10, 6))\nsns.countplot(data=df, x='insured_education_level', hue='fraud_reported', palette='coolwarm')\nplt.title('Fraud Reported by Education Level')\nplt.xlabel('Education Level')\nplt.ylabel('Count')\nplt.xticks(rotation=45)\nplt.legend(title='Fraud Reported')\nplt.show()\n\n# Fraud reported by occupation\nplt.figure(figsize=(10, 6))\nsns.countplot(data=df, x='insured_occupation', hue='fraud_reported', palette='viridis')\nplt.title('Fraud Reported by Occupation')\nplt.xlabel('Occupation')\nplt.ylabel('Count')\nplt.xticks(rotation=90)\nplt.legend(title='Fraud Reported')\nplt.show()"
  },
  {
   "cell_type": "markdown",
   "metadata": {},
   "source": "## 6. Policy Analysis\n\nExplore relationships between policy attributes and fraud detection."
  },
  {
   "cell_type": "code",
   "execution_count": 6,
   "metadata": {},
   "outputs": [],
   "source": "# Policy annual premium vs. fraud\nplt.figure(figsize=(10, 6))\nsns.boxplot(data=df, x='fraud_reported', y='policy_annual_premium', palette='muted')\nplt.title('Policy Annual Premium vs. Fraud')\nplt.xlabel('Fraud Reported')\nplt.ylabel('Policy Annual Premium')\nplt.show()\n\n# Policy deductible vs. fraud\nplt.figure(figsize=(10, 6))\nsns.boxplot(data=df, x='fraud_reported', y='policy_deductable', palette='muted')\nplt.title('Policy Deductible vs. Fraud')\nplt.xlabel('Fraud Reported')\nplt.ylabel('Policy Deductible')\nplt.show()"
  },
  {
   "cell_type": "markdown",
   "metadata": {},
   "source": "## 7. Summary and Insights\n\nSummarize key insights derived from the EDA."
  },
  {
   "cell_type": "code",
   "execution_count": 7,
   "metadata": {},
   "outputs": [],
   "source": "# Summary of key insights\nprint(\"\\nKey Insights:\")\nprint(\"1. Age Distribution: Most customers are in the range of 30-45 years.\")\nprint(\"2. Gender Distribution: There is a balanced representation of genders among customers.\")\nprint(\"3. Education Level: Most customers have a higher education degree.\")\nprint(\"4. Annual Premium: Premiums are widely distributed, with a concentration in the lower range.\")\nprint(\"5. Fraud Patterns: Fraud is more reported among certain occupations and education levels.\")"
  },
  {
   "cell_type": "markdown",
   "metadata": {},
   "source": "## Conclusion\n\nThis EDA notebook has provided valuable insights into the customer demographics, policy attributes, and fraud detection patterns in the insurance data. These findings will help shape our strategies for targeting customers and managing risks effectively."
  }
 ],
 "metadata": {
  "kernelspec": {
   "display_name": "Python 3",
   "language": "python",
   "name": "python3"
  },
  "language_info": {
   "codemirror_mode": {
    "name": "ipython",
    "version": 3
   },
   "file_extension": ".py",
   "mimetype": "text/x-python",
   "name": "python",
   "nbconvert_exporter": "python",
   "pygments_lexer": "ipython3",
   "version": "3.8.5"
  }
 },
 "nbformat": 4,
 "nbformat_minor": 4
}
